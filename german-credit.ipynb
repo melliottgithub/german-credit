{
  "cells": [
    {
      "cell_type": "code",
      "execution_count": 1,
      "metadata": {
        "id": "UpSTuZEKRpXs"
      },
      "outputs": [],
      "source": [
        "import pandas as pd\n",
        "import matplotlib.pyplot as plt\n",
        "import numpy as np\n",
        "\n",
        "# sklearn packages\n",
        "from sklearn.preprocessing import LabelEncoder\n",
        "from sklearn.model_selection import train_test_split\n",
        "from sklearn.metrics import confusion_matrix\n",
        "from sklearn.metrics import accuracy_score\n",
        "from sklearn.tree import DecisionTreeClassifier\n",
        "\n",
        "# plotting\n",
        "import seaborn as sns\n",
        "\n",
        "import warnings\n",
        "warnings.filterwarnings(\"ignore\")"
      ]
    },
    {
      "cell_type": "code",
      "source": [
        "from google.colab import files\n",
        "upload = files.upload()"
      ],
      "metadata": {
        "colab": {
          "base_uri": "https://localhost:8080/",
          "height": 73
        },
        "id": "JJ-KxtOjXlch",
        "outputId": "bbb0ec4f-fab0-4958-dd83-612c7ed1d719"
      },
      "execution_count": 2,
      "outputs": [
        {
          "output_type": "display_data",
          "data": {
            "text/plain": [
              "<IPython.core.display.HTML object>"
            ],
            "text/html": [
              "\n",
              "     <input type=\"file\" id=\"files-d6a5f3ea-5763-4e33-af6a-a68dc4ad8d78\" name=\"files[]\" multiple disabled\n",
              "        style=\"border:none\" />\n",
              "     <output id=\"result-d6a5f3ea-5763-4e33-af6a-a68dc4ad8d78\">\n",
              "      Upload widget is only available when the cell has been executed in the\n",
              "      current browser session. Please rerun this cell to enable.\n",
              "      </output>\n",
              "      <script>// Copyright 2017 Google LLC\n",
              "//\n",
              "// Licensed under the Apache License, Version 2.0 (the \"License\");\n",
              "// you may not use this file except in compliance with the License.\n",
              "// You may obtain a copy of the License at\n",
              "//\n",
              "//      http://www.apache.org/licenses/LICENSE-2.0\n",
              "//\n",
              "// Unless required by applicable law or agreed to in writing, software\n",
              "// distributed under the License is distributed on an \"AS IS\" BASIS,\n",
              "// WITHOUT WARRANTIES OR CONDITIONS OF ANY KIND, either express or implied.\n",
              "// See the License for the specific language governing permissions and\n",
              "// limitations under the License.\n",
              "\n",
              "/**\n",
              " * @fileoverview Helpers for google.colab Python module.\n",
              " */\n",
              "(function(scope) {\n",
              "function span(text, styleAttributes = {}) {\n",
              "  const element = document.createElement('span');\n",
              "  element.textContent = text;\n",
              "  for (const key of Object.keys(styleAttributes)) {\n",
              "    element.style[key] = styleAttributes[key];\n",
              "  }\n",
              "  return element;\n",
              "}\n",
              "\n",
              "// Max number of bytes which will be uploaded at a time.\n",
              "const MAX_PAYLOAD_SIZE = 100 * 1024;\n",
              "\n",
              "function _uploadFiles(inputId, outputId) {\n",
              "  const steps = uploadFilesStep(inputId, outputId);\n",
              "  const outputElement = document.getElementById(outputId);\n",
              "  // Cache steps on the outputElement to make it available for the next call\n",
              "  // to uploadFilesContinue from Python.\n",
              "  outputElement.steps = steps;\n",
              "\n",
              "  return _uploadFilesContinue(outputId);\n",
              "}\n",
              "\n",
              "// This is roughly an async generator (not supported in the browser yet),\n",
              "// where there are multiple asynchronous steps and the Python side is going\n",
              "// to poll for completion of each step.\n",
              "// This uses a Promise to block the python side on completion of each step,\n",
              "// then passes the result of the previous step as the input to the next step.\n",
              "function _uploadFilesContinue(outputId) {\n",
              "  const outputElement = document.getElementById(outputId);\n",
              "  const steps = outputElement.steps;\n",
              "\n",
              "  const next = steps.next(outputElement.lastPromiseValue);\n",
              "  return Promise.resolve(next.value.promise).then((value) => {\n",
              "    // Cache the last promise value to make it available to the next\n",
              "    // step of the generator.\n",
              "    outputElement.lastPromiseValue = value;\n",
              "    return next.value.response;\n",
              "  });\n",
              "}\n",
              "\n",
              "/**\n",
              " * Generator function which is called between each async step of the upload\n",
              " * process.\n",
              " * @param {string} inputId Element ID of the input file picker element.\n",
              " * @param {string} outputId Element ID of the output display.\n",
              " * @return {!Iterable<!Object>} Iterable of next steps.\n",
              " */\n",
              "function* uploadFilesStep(inputId, outputId) {\n",
              "  const inputElement = document.getElementById(inputId);\n",
              "  inputElement.disabled = false;\n",
              "\n",
              "  const outputElement = document.getElementById(outputId);\n",
              "  outputElement.innerHTML = '';\n",
              "\n",
              "  const pickedPromise = new Promise((resolve) => {\n",
              "    inputElement.addEventListener('change', (e) => {\n",
              "      resolve(e.target.files);\n",
              "    });\n",
              "  });\n",
              "\n",
              "  const cancel = document.createElement('button');\n",
              "  inputElement.parentElement.appendChild(cancel);\n",
              "  cancel.textContent = 'Cancel upload';\n",
              "  const cancelPromise = new Promise((resolve) => {\n",
              "    cancel.onclick = () => {\n",
              "      resolve(null);\n",
              "    };\n",
              "  });\n",
              "\n",
              "  // Wait for the user to pick the files.\n",
              "  const files = yield {\n",
              "    promise: Promise.race([pickedPromise, cancelPromise]),\n",
              "    response: {\n",
              "      action: 'starting',\n",
              "    }\n",
              "  };\n",
              "\n",
              "  cancel.remove();\n",
              "\n",
              "  // Disable the input element since further picks are not allowed.\n",
              "  inputElement.disabled = true;\n",
              "\n",
              "  if (!files) {\n",
              "    return {\n",
              "      response: {\n",
              "        action: 'complete',\n",
              "      }\n",
              "    };\n",
              "  }\n",
              "\n",
              "  for (const file of files) {\n",
              "    const li = document.createElement('li');\n",
              "    li.append(span(file.name, {fontWeight: 'bold'}));\n",
              "    li.append(span(\n",
              "        `(${file.type || 'n/a'}) - ${file.size} bytes, ` +\n",
              "        `last modified: ${\n",
              "            file.lastModifiedDate ? file.lastModifiedDate.toLocaleDateString() :\n",
              "                                    'n/a'} - `));\n",
              "    const percent = span('0% done');\n",
              "    li.appendChild(percent);\n",
              "\n",
              "    outputElement.appendChild(li);\n",
              "\n",
              "    const fileDataPromise = new Promise((resolve) => {\n",
              "      const reader = new FileReader();\n",
              "      reader.onload = (e) => {\n",
              "        resolve(e.target.result);\n",
              "      };\n",
              "      reader.readAsArrayBuffer(file);\n",
              "    });\n",
              "    // Wait for the data to be ready.\n",
              "    let fileData = yield {\n",
              "      promise: fileDataPromise,\n",
              "      response: {\n",
              "        action: 'continue',\n",
              "      }\n",
              "    };\n",
              "\n",
              "    // Use a chunked sending to avoid message size limits. See b/62115660.\n",
              "    let position = 0;\n",
              "    do {\n",
              "      const length = Math.min(fileData.byteLength - position, MAX_PAYLOAD_SIZE);\n",
              "      const chunk = new Uint8Array(fileData, position, length);\n",
              "      position += length;\n",
              "\n",
              "      const base64 = btoa(String.fromCharCode.apply(null, chunk));\n",
              "      yield {\n",
              "        response: {\n",
              "          action: 'append',\n",
              "          file: file.name,\n",
              "          data: base64,\n",
              "        },\n",
              "      };\n",
              "\n",
              "      let percentDone = fileData.byteLength === 0 ?\n",
              "          100 :\n",
              "          Math.round((position / fileData.byteLength) * 100);\n",
              "      percent.textContent = `${percentDone}% done`;\n",
              "\n",
              "    } while (position < fileData.byteLength);\n",
              "  }\n",
              "\n",
              "  // All done.\n",
              "  yield {\n",
              "    response: {\n",
              "      action: 'complete',\n",
              "    }\n",
              "  };\n",
              "}\n",
              "\n",
              "scope.google = scope.google || {};\n",
              "scope.google.colab = scope.google.colab || {};\n",
              "scope.google.colab._files = {\n",
              "  _uploadFiles,\n",
              "  _uploadFilesContinue,\n",
              "};\n",
              "})(self);\n",
              "</script> "
            ]
          },
          "metadata": {}
        },
        {
          "output_type": "stream",
          "name": "stdout",
          "text": [
            "Saving german_credit_risk.csv to german_credit_risk.csv\n"
          ]
        }
      ]
    },
    {
      "cell_type": "code",
      "execution_count": 3,
      "metadata": {
        "id": "Wl_GBSdZUic-"
      },
      "outputs": [],
      "source": [
        "import io\n",
        "df = pd.read_csv(io.BytesIO(upload['german_credit_risk.csv']))"
      ]
    },
    {
      "cell_type": "code",
      "execution_count": 4,
      "metadata": {
        "colab": {
          "base_uri": "https://localhost:8080/"
        },
        "id": "ZslzJa8nRpXu",
        "outputId": "b39dc4a7-dd1a-46a7-c938-9cac81936528"
      },
      "outputs": [
        {
          "output_type": "stream",
          "name": "stdout",
          "text": [
            "<class 'pandas.core.frame.DataFrame'>\n",
            "RangeIndex: 1000 entries, 0 to 999\n",
            "Data columns (total 21 columns):\n",
            " #   Column             Non-Null Count  Dtype \n",
            "---  ------             --------------  ----- \n",
            " 0   Checking.Account   1000 non-null   object\n",
            " 1   Duration           1000 non-null   int64 \n",
            " 2   Credit.Hist        1000 non-null   object\n",
            " 3   Purpose            1000 non-null   object\n",
            " 4   Credit.Amount      1000 non-null   int64 \n",
            " 5   Saving.Account     1000 non-null   object\n",
            " 6   Employmnet         1000 non-null   object\n",
            " 7   Disposable.Income  1000 non-null   int64 \n",
            " 8   Personal.Status    1000 non-null   object\n",
            " 9   Other.Debtors      1000 non-null   object\n",
            " 10  Present.Residence  1000 non-null   int64 \n",
            " 11  Property           1000 non-null   object\n",
            " 12  Age                1000 non-null   int64 \n",
            " 13  Other.Loans        1000 non-null   object\n",
            " 14  Housing            1000 non-null   object\n",
            " 15  Existing.Credits   1000 non-null   int64 \n",
            " 16  Job                1000 non-null   object\n",
            " 17  Number.Liable      1000 non-null   int64 \n",
            " 18  Telephone          1000 non-null   object\n",
            " 19  Foreign.Worker     1000 non-null   object\n",
            " 20  Cost.Matrix        1000 non-null   int64 \n",
            "dtypes: int64(8), object(13)\n",
            "memory usage: 164.2+ KB\n",
            "None\n"
          ]
        },
        {
          "output_type": "execute_result",
          "data": {
            "text/plain": [
              "1    700\n",
              "2    300\n",
              "Name: Cost.Matrix, dtype: int64"
            ]
          },
          "metadata": {},
          "execution_count": 4
        }
      ],
      "source": [
        "print(df.info())\n",
        "df['Cost.Matrix'].value_counts()"
      ]
    },
    {
      "cell_type": "code",
      "execution_count": 5,
      "metadata": {
        "colab": {
          "base_uri": "https://localhost:8080/"
        },
        "id": "ZPY8OhCB9KPL",
        "outputId": "9691043b-3565-43bc-fc6d-047a4a1d4d29"
      },
      "outputs": [
        {
          "output_type": "execute_result",
          "data": {
            "text/plain": [
              "1    700\n",
              "2    300\n",
              "Name: Cost.Matrix, dtype: int64"
            ]
          },
          "metadata": {},
          "execution_count": 5
        }
      ],
      "source": [
        "df['Cost.Matrix'].value_counts()"
      ]
    },
    {
      "cell_type": "code",
      "execution_count": 6,
      "metadata": {
        "colab": {
          "base_uri": "https://localhost:8080/"
        },
        "id": "rtMTqizmRpXv",
        "outputId": "256adb47-85dc-4baa-c1ca-4fb40bd216c0"
      },
      "outputs": [
        {
          "output_type": "execute_result",
          "data": {
            "text/plain": [
              "Checking.Account     0\n",
              "Duration             0\n",
              "Credit.Hist          0\n",
              "Purpose              0\n",
              "Credit.Amount        0\n",
              "Saving.Account       0\n",
              "Employmnet           0\n",
              "Disposable.Income    0\n",
              "Personal.Status      0\n",
              "Other.Debtors        0\n",
              "Present.Residence    0\n",
              "Property             0\n",
              "Age                  0\n",
              "Other.Loans          0\n",
              "Housing              0\n",
              "Existing.Credits     0\n",
              "Job                  0\n",
              "Number.Liable        0\n",
              "Telephone            0\n",
              "Foreign.Worker       0\n",
              "Cost.Matrix          0\n",
              "dtype: int64"
            ]
          },
          "metadata": {},
          "execution_count": 6
        }
      ],
      "source": [
        "# Check for missing values\n",
        "df.isnull().sum()"
      ]
    },
    {
      "cell_type": "code",
      "execution_count": 7,
      "metadata": {
        "colab": {
          "base_uri": "https://localhost:8080/",
          "height": 708
        },
        "id": "KhsdN6YtAxZg",
        "outputId": "aea75525-a70d-44a1-eb7d-4e7acccbcbbd"
      },
      "outputs": [
        {
          "output_type": "execute_result",
          "data": {
            "text/plain": [
              "                      0     1     2     3     4\n",
              "Checking.Account    A11   A12   A14   A11   A11\n",
              "Duration              6    48    12    42    24\n",
              "Credit.Hist         A34   A32   A34   A32   A33\n",
              "Purpose             A43   A43   A46   A42   A40\n",
              "Credit.Amount      1169  5951  2096  7882  4870\n",
              "Saving.Account      A65   A61   A61   A61   A61\n",
              "Employmnet          A75   A73   A74   A74   A73\n",
              "Disposable.Income     4     2     2     2     3\n",
              "Personal.Status     A93   A92   A93   A93   A93\n",
              "Other.Debtors      A101  A101  A101  A103  A101\n",
              "Present.Residence     4     2     3     4     4\n",
              "Property           A121  A121  A121  A122  A124\n",
              "Age                  67    22    49    45    53\n",
              "Other.Loans        A143  A143  A143  A143  A143\n",
              "Housing            A152  A152  A152  A153  A153\n",
              "Existing.Credits      2     1     1     1     2\n",
              "Job                A173  A173  A172  A173  A173\n",
              "Number.Liable         1     1     2     2     2\n",
              "Telephone          A192  A191  A191  A191  A191\n",
              "Foreign.Worker     A201  A201  A201  A201  A201\n",
              "Cost.Matrix           1     2     1     1     2"
            ],
            "text/html": [
              "\n",
              "  <div id=\"df-da084df5-2d76-4d64-bce3-a191f3157ff5\">\n",
              "    <div class=\"colab-df-container\">\n",
              "      <div>\n",
              "<style scoped>\n",
              "    .dataframe tbody tr th:only-of-type {\n",
              "        vertical-align: middle;\n",
              "    }\n",
              "\n",
              "    .dataframe tbody tr th {\n",
              "        vertical-align: top;\n",
              "    }\n",
              "\n",
              "    .dataframe thead th {\n",
              "        text-align: right;\n",
              "    }\n",
              "</style>\n",
              "<table border=\"1\" class=\"dataframe\">\n",
              "  <thead>\n",
              "    <tr style=\"text-align: right;\">\n",
              "      <th></th>\n",
              "      <th>0</th>\n",
              "      <th>1</th>\n",
              "      <th>2</th>\n",
              "      <th>3</th>\n",
              "      <th>4</th>\n",
              "    </tr>\n",
              "  </thead>\n",
              "  <tbody>\n",
              "    <tr>\n",
              "      <th>Checking.Account</th>\n",
              "      <td>A11</td>\n",
              "      <td>A12</td>\n",
              "      <td>A14</td>\n",
              "      <td>A11</td>\n",
              "      <td>A11</td>\n",
              "    </tr>\n",
              "    <tr>\n",
              "      <th>Duration</th>\n",
              "      <td>6</td>\n",
              "      <td>48</td>\n",
              "      <td>12</td>\n",
              "      <td>42</td>\n",
              "      <td>24</td>\n",
              "    </tr>\n",
              "    <tr>\n",
              "      <th>Credit.Hist</th>\n",
              "      <td>A34</td>\n",
              "      <td>A32</td>\n",
              "      <td>A34</td>\n",
              "      <td>A32</td>\n",
              "      <td>A33</td>\n",
              "    </tr>\n",
              "    <tr>\n",
              "      <th>Purpose</th>\n",
              "      <td>A43</td>\n",
              "      <td>A43</td>\n",
              "      <td>A46</td>\n",
              "      <td>A42</td>\n",
              "      <td>A40</td>\n",
              "    </tr>\n",
              "    <tr>\n",
              "      <th>Credit.Amount</th>\n",
              "      <td>1169</td>\n",
              "      <td>5951</td>\n",
              "      <td>2096</td>\n",
              "      <td>7882</td>\n",
              "      <td>4870</td>\n",
              "    </tr>\n",
              "    <tr>\n",
              "      <th>Saving.Account</th>\n",
              "      <td>A65</td>\n",
              "      <td>A61</td>\n",
              "      <td>A61</td>\n",
              "      <td>A61</td>\n",
              "      <td>A61</td>\n",
              "    </tr>\n",
              "    <tr>\n",
              "      <th>Employmnet</th>\n",
              "      <td>A75</td>\n",
              "      <td>A73</td>\n",
              "      <td>A74</td>\n",
              "      <td>A74</td>\n",
              "      <td>A73</td>\n",
              "    </tr>\n",
              "    <tr>\n",
              "      <th>Disposable.Income</th>\n",
              "      <td>4</td>\n",
              "      <td>2</td>\n",
              "      <td>2</td>\n",
              "      <td>2</td>\n",
              "      <td>3</td>\n",
              "    </tr>\n",
              "    <tr>\n",
              "      <th>Personal.Status</th>\n",
              "      <td>A93</td>\n",
              "      <td>A92</td>\n",
              "      <td>A93</td>\n",
              "      <td>A93</td>\n",
              "      <td>A93</td>\n",
              "    </tr>\n",
              "    <tr>\n",
              "      <th>Other.Debtors</th>\n",
              "      <td>A101</td>\n",
              "      <td>A101</td>\n",
              "      <td>A101</td>\n",
              "      <td>A103</td>\n",
              "      <td>A101</td>\n",
              "    </tr>\n",
              "    <tr>\n",
              "      <th>Present.Residence</th>\n",
              "      <td>4</td>\n",
              "      <td>2</td>\n",
              "      <td>3</td>\n",
              "      <td>4</td>\n",
              "      <td>4</td>\n",
              "    </tr>\n",
              "    <tr>\n",
              "      <th>Property</th>\n",
              "      <td>A121</td>\n",
              "      <td>A121</td>\n",
              "      <td>A121</td>\n",
              "      <td>A122</td>\n",
              "      <td>A124</td>\n",
              "    </tr>\n",
              "    <tr>\n",
              "      <th>Age</th>\n",
              "      <td>67</td>\n",
              "      <td>22</td>\n",
              "      <td>49</td>\n",
              "      <td>45</td>\n",
              "      <td>53</td>\n",
              "    </tr>\n",
              "    <tr>\n",
              "      <th>Other.Loans</th>\n",
              "      <td>A143</td>\n",
              "      <td>A143</td>\n",
              "      <td>A143</td>\n",
              "      <td>A143</td>\n",
              "      <td>A143</td>\n",
              "    </tr>\n",
              "    <tr>\n",
              "      <th>Housing</th>\n",
              "      <td>A152</td>\n",
              "      <td>A152</td>\n",
              "      <td>A152</td>\n",
              "      <td>A153</td>\n",
              "      <td>A153</td>\n",
              "    </tr>\n",
              "    <tr>\n",
              "      <th>Existing.Credits</th>\n",
              "      <td>2</td>\n",
              "      <td>1</td>\n",
              "      <td>1</td>\n",
              "      <td>1</td>\n",
              "      <td>2</td>\n",
              "    </tr>\n",
              "    <tr>\n",
              "      <th>Job</th>\n",
              "      <td>A173</td>\n",
              "      <td>A173</td>\n",
              "      <td>A172</td>\n",
              "      <td>A173</td>\n",
              "      <td>A173</td>\n",
              "    </tr>\n",
              "    <tr>\n",
              "      <th>Number.Liable</th>\n",
              "      <td>1</td>\n",
              "      <td>1</td>\n",
              "      <td>2</td>\n",
              "      <td>2</td>\n",
              "      <td>2</td>\n",
              "    </tr>\n",
              "    <tr>\n",
              "      <th>Telephone</th>\n",
              "      <td>A192</td>\n",
              "      <td>A191</td>\n",
              "      <td>A191</td>\n",
              "      <td>A191</td>\n",
              "      <td>A191</td>\n",
              "    </tr>\n",
              "    <tr>\n",
              "      <th>Foreign.Worker</th>\n",
              "      <td>A201</td>\n",
              "      <td>A201</td>\n",
              "      <td>A201</td>\n",
              "      <td>A201</td>\n",
              "      <td>A201</td>\n",
              "    </tr>\n",
              "    <tr>\n",
              "      <th>Cost.Matrix</th>\n",
              "      <td>1</td>\n",
              "      <td>2</td>\n",
              "      <td>1</td>\n",
              "      <td>1</td>\n",
              "      <td>2</td>\n",
              "    </tr>\n",
              "  </tbody>\n",
              "</table>\n",
              "</div>\n",
              "      <button class=\"colab-df-convert\" onclick=\"convertToInteractive('df-da084df5-2d76-4d64-bce3-a191f3157ff5')\"\n",
              "              title=\"Convert this dataframe to an interactive table.\"\n",
              "              style=\"display:none;\">\n",
              "        \n",
              "  <svg xmlns=\"http://www.w3.org/2000/svg\" height=\"24px\"viewBox=\"0 0 24 24\"\n",
              "       width=\"24px\">\n",
              "    <path d=\"M0 0h24v24H0V0z\" fill=\"none\"/>\n",
              "    <path d=\"M18.56 5.44l.94 2.06.94-2.06 2.06-.94-2.06-.94-.94-2.06-.94 2.06-2.06.94zm-11 1L8.5 8.5l.94-2.06 2.06-.94-2.06-.94L8.5 2.5l-.94 2.06-2.06.94zm10 10l.94 2.06.94-2.06 2.06-.94-2.06-.94-.94-2.06-.94 2.06-2.06.94z\"/><path d=\"M17.41 7.96l-1.37-1.37c-.4-.4-.92-.59-1.43-.59-.52 0-1.04.2-1.43.59L10.3 9.45l-7.72 7.72c-.78.78-.78 2.05 0 2.83L4 21.41c.39.39.9.59 1.41.59.51 0 1.02-.2 1.41-.59l7.78-7.78 2.81-2.81c.8-.78.8-2.07 0-2.86zM5.41 20L4 18.59l7.72-7.72 1.47 1.35L5.41 20z\"/>\n",
              "  </svg>\n",
              "      </button>\n",
              "      \n",
              "  <style>\n",
              "    .colab-df-container {\n",
              "      display:flex;\n",
              "      flex-wrap:wrap;\n",
              "      gap: 12px;\n",
              "    }\n",
              "\n",
              "    .colab-df-convert {\n",
              "      background-color: #E8F0FE;\n",
              "      border: none;\n",
              "      border-radius: 50%;\n",
              "      cursor: pointer;\n",
              "      display: none;\n",
              "      fill: #1967D2;\n",
              "      height: 32px;\n",
              "      padding: 0 0 0 0;\n",
              "      width: 32px;\n",
              "    }\n",
              "\n",
              "    .colab-df-convert:hover {\n",
              "      background-color: #E2EBFA;\n",
              "      box-shadow: 0px 1px 2px rgba(60, 64, 67, 0.3), 0px 1px 3px 1px rgba(60, 64, 67, 0.15);\n",
              "      fill: #174EA6;\n",
              "    }\n",
              "\n",
              "    [theme=dark] .colab-df-convert {\n",
              "      background-color: #3B4455;\n",
              "      fill: #D2E3FC;\n",
              "    }\n",
              "\n",
              "    [theme=dark] .colab-df-convert:hover {\n",
              "      background-color: #434B5C;\n",
              "      box-shadow: 0px 1px 3px 1px rgba(0, 0, 0, 0.15);\n",
              "      filter: drop-shadow(0px 1px 2px rgba(0, 0, 0, 0.3));\n",
              "      fill: #FFFFFF;\n",
              "    }\n",
              "  </style>\n",
              "\n",
              "      <script>\n",
              "        const buttonEl =\n",
              "          document.querySelector('#df-da084df5-2d76-4d64-bce3-a191f3157ff5 button.colab-df-convert');\n",
              "        buttonEl.style.display =\n",
              "          google.colab.kernel.accessAllowed ? 'block' : 'none';\n",
              "\n",
              "        async function convertToInteractive(key) {\n",
              "          const element = document.querySelector('#df-da084df5-2d76-4d64-bce3-a191f3157ff5');\n",
              "          const dataTable =\n",
              "            await google.colab.kernel.invokeFunction('convertToInteractive',\n",
              "                                                     [key], {});\n",
              "          if (!dataTable) return;\n",
              "\n",
              "          const docLinkHtml = 'Like what you see? Visit the ' +\n",
              "            '<a target=\"_blank\" href=https://colab.research.google.com/notebooks/data_table.ipynb>data table notebook</a>'\n",
              "            + ' to learn more about interactive tables.';\n",
              "          element.innerHTML = '';\n",
              "          dataTable['output_type'] = 'display_data';\n",
              "          await google.colab.output.renderOutput(dataTable, element);\n",
              "          const docLink = document.createElement('div');\n",
              "          docLink.innerHTML = docLinkHtml;\n",
              "          element.appendChild(docLink);\n",
              "        }\n",
              "      </script>\n",
              "    </div>\n",
              "  </div>\n",
              "  "
            ]
          },
          "metadata": {},
          "execution_count": 7
        }
      ],
      "source": [
        "df.head(5).T"
      ]
    },
    {
      "cell_type": "code",
      "execution_count": 8,
      "metadata": {
        "colab": {
          "base_uri": "https://localhost:8080/",
          "height": 300
        },
        "id": "j7iUSftXGDrU",
        "outputId": "d783da9c-acd6-4262-94ab-3a28e46d27b7"
      },
      "outputs": [
        {
          "output_type": "execute_result",
          "data": {
            "text/plain": [
              "                    count      mean          std    min     25%     50%  \\\n",
              "Duration           1000.0    20.903    12.058814    4.0    12.0    18.0   \n",
              "Credit.Amount      1000.0  3271.258  2822.736876  250.0  1365.5  2319.5   \n",
              "Disposable.Income  1000.0     2.973     1.118715    1.0     2.0     3.0   \n",
              "Present.Residence  1000.0     2.845     1.103718    1.0     2.0     3.0   \n",
              "Age                1000.0    35.546    11.375469   19.0    27.0    33.0   \n",
              "Existing.Credits   1000.0     1.407     0.577654    1.0     1.0     1.0   \n",
              "Number.Liable      1000.0     1.155     0.362086    1.0     1.0     1.0   \n",
              "Cost.Matrix        1000.0     1.300     0.458487    1.0     1.0     1.0   \n",
              "\n",
              "                       75%      max  \n",
              "Duration             24.00     72.0  \n",
              "Credit.Amount      3972.25  18424.0  \n",
              "Disposable.Income     4.00      4.0  \n",
              "Present.Residence     4.00      4.0  \n",
              "Age                  42.00     75.0  \n",
              "Existing.Credits      2.00      4.0  \n",
              "Number.Liable         1.00      2.0  \n",
              "Cost.Matrix           2.00      2.0  "
            ],
            "text/html": [
              "\n",
              "  <div id=\"df-e95a2acc-6a18-4220-acf1-ff35c94ace90\">\n",
              "    <div class=\"colab-df-container\">\n",
              "      <div>\n",
              "<style scoped>\n",
              "    .dataframe tbody tr th:only-of-type {\n",
              "        vertical-align: middle;\n",
              "    }\n",
              "\n",
              "    .dataframe tbody tr th {\n",
              "        vertical-align: top;\n",
              "    }\n",
              "\n",
              "    .dataframe thead th {\n",
              "        text-align: right;\n",
              "    }\n",
              "</style>\n",
              "<table border=\"1\" class=\"dataframe\">\n",
              "  <thead>\n",
              "    <tr style=\"text-align: right;\">\n",
              "      <th></th>\n",
              "      <th>count</th>\n",
              "      <th>mean</th>\n",
              "      <th>std</th>\n",
              "      <th>min</th>\n",
              "      <th>25%</th>\n",
              "      <th>50%</th>\n",
              "      <th>75%</th>\n",
              "      <th>max</th>\n",
              "    </tr>\n",
              "  </thead>\n",
              "  <tbody>\n",
              "    <tr>\n",
              "      <th>Duration</th>\n",
              "      <td>1000.0</td>\n",
              "      <td>20.903</td>\n",
              "      <td>12.058814</td>\n",
              "      <td>4.0</td>\n",
              "      <td>12.0</td>\n",
              "      <td>18.0</td>\n",
              "      <td>24.00</td>\n",
              "      <td>72.0</td>\n",
              "    </tr>\n",
              "    <tr>\n",
              "      <th>Credit.Amount</th>\n",
              "      <td>1000.0</td>\n",
              "      <td>3271.258</td>\n",
              "      <td>2822.736876</td>\n",
              "      <td>250.0</td>\n",
              "      <td>1365.5</td>\n",
              "      <td>2319.5</td>\n",
              "      <td>3972.25</td>\n",
              "      <td>18424.0</td>\n",
              "    </tr>\n",
              "    <tr>\n",
              "      <th>Disposable.Income</th>\n",
              "      <td>1000.0</td>\n",
              "      <td>2.973</td>\n",
              "      <td>1.118715</td>\n",
              "      <td>1.0</td>\n",
              "      <td>2.0</td>\n",
              "      <td>3.0</td>\n",
              "      <td>4.00</td>\n",
              "      <td>4.0</td>\n",
              "    </tr>\n",
              "    <tr>\n",
              "      <th>Present.Residence</th>\n",
              "      <td>1000.0</td>\n",
              "      <td>2.845</td>\n",
              "      <td>1.103718</td>\n",
              "      <td>1.0</td>\n",
              "      <td>2.0</td>\n",
              "      <td>3.0</td>\n",
              "      <td>4.00</td>\n",
              "      <td>4.0</td>\n",
              "    </tr>\n",
              "    <tr>\n",
              "      <th>Age</th>\n",
              "      <td>1000.0</td>\n",
              "      <td>35.546</td>\n",
              "      <td>11.375469</td>\n",
              "      <td>19.0</td>\n",
              "      <td>27.0</td>\n",
              "      <td>33.0</td>\n",
              "      <td>42.00</td>\n",
              "      <td>75.0</td>\n",
              "    </tr>\n",
              "    <tr>\n",
              "      <th>Existing.Credits</th>\n",
              "      <td>1000.0</td>\n",
              "      <td>1.407</td>\n",
              "      <td>0.577654</td>\n",
              "      <td>1.0</td>\n",
              "      <td>1.0</td>\n",
              "      <td>1.0</td>\n",
              "      <td>2.00</td>\n",
              "      <td>4.0</td>\n",
              "    </tr>\n",
              "    <tr>\n",
              "      <th>Number.Liable</th>\n",
              "      <td>1000.0</td>\n",
              "      <td>1.155</td>\n",
              "      <td>0.362086</td>\n",
              "      <td>1.0</td>\n",
              "      <td>1.0</td>\n",
              "      <td>1.0</td>\n",
              "      <td>1.00</td>\n",
              "      <td>2.0</td>\n",
              "    </tr>\n",
              "    <tr>\n",
              "      <th>Cost.Matrix</th>\n",
              "      <td>1000.0</td>\n",
              "      <td>1.300</td>\n",
              "      <td>0.458487</td>\n",
              "      <td>1.0</td>\n",
              "      <td>1.0</td>\n",
              "      <td>1.0</td>\n",
              "      <td>2.00</td>\n",
              "      <td>2.0</td>\n",
              "    </tr>\n",
              "  </tbody>\n",
              "</table>\n",
              "</div>\n",
              "      <button class=\"colab-df-convert\" onclick=\"convertToInteractive('df-e95a2acc-6a18-4220-acf1-ff35c94ace90')\"\n",
              "              title=\"Convert this dataframe to an interactive table.\"\n",
              "              style=\"display:none;\">\n",
              "        \n",
              "  <svg xmlns=\"http://www.w3.org/2000/svg\" height=\"24px\"viewBox=\"0 0 24 24\"\n",
              "       width=\"24px\">\n",
              "    <path d=\"M0 0h24v24H0V0z\" fill=\"none\"/>\n",
              "    <path d=\"M18.56 5.44l.94 2.06.94-2.06 2.06-.94-2.06-.94-.94-2.06-.94 2.06-2.06.94zm-11 1L8.5 8.5l.94-2.06 2.06-.94-2.06-.94L8.5 2.5l-.94 2.06-2.06.94zm10 10l.94 2.06.94-2.06 2.06-.94-2.06-.94-.94-2.06-.94 2.06-2.06.94z\"/><path d=\"M17.41 7.96l-1.37-1.37c-.4-.4-.92-.59-1.43-.59-.52 0-1.04.2-1.43.59L10.3 9.45l-7.72 7.72c-.78.78-.78 2.05 0 2.83L4 21.41c.39.39.9.59 1.41.59.51 0 1.02-.2 1.41-.59l7.78-7.78 2.81-2.81c.8-.78.8-2.07 0-2.86zM5.41 20L4 18.59l7.72-7.72 1.47 1.35L5.41 20z\"/>\n",
              "  </svg>\n",
              "      </button>\n",
              "      \n",
              "  <style>\n",
              "    .colab-df-container {\n",
              "      display:flex;\n",
              "      flex-wrap:wrap;\n",
              "      gap: 12px;\n",
              "    }\n",
              "\n",
              "    .colab-df-convert {\n",
              "      background-color: #E8F0FE;\n",
              "      border: none;\n",
              "      border-radius: 50%;\n",
              "      cursor: pointer;\n",
              "      display: none;\n",
              "      fill: #1967D2;\n",
              "      height: 32px;\n",
              "      padding: 0 0 0 0;\n",
              "      width: 32px;\n",
              "    }\n",
              "\n",
              "    .colab-df-convert:hover {\n",
              "      background-color: #E2EBFA;\n",
              "      box-shadow: 0px 1px 2px rgba(60, 64, 67, 0.3), 0px 1px 3px 1px rgba(60, 64, 67, 0.15);\n",
              "      fill: #174EA6;\n",
              "    }\n",
              "\n",
              "    [theme=dark] .colab-df-convert {\n",
              "      background-color: #3B4455;\n",
              "      fill: #D2E3FC;\n",
              "    }\n",
              "\n",
              "    [theme=dark] .colab-df-convert:hover {\n",
              "      background-color: #434B5C;\n",
              "      box-shadow: 0px 1px 3px 1px rgba(0, 0, 0, 0.15);\n",
              "      filter: drop-shadow(0px 1px 2px rgba(0, 0, 0, 0.3));\n",
              "      fill: #FFFFFF;\n",
              "    }\n",
              "  </style>\n",
              "\n",
              "      <script>\n",
              "        const buttonEl =\n",
              "          document.querySelector('#df-e95a2acc-6a18-4220-acf1-ff35c94ace90 button.colab-df-convert');\n",
              "        buttonEl.style.display =\n",
              "          google.colab.kernel.accessAllowed ? 'block' : 'none';\n",
              "\n",
              "        async function convertToInteractive(key) {\n",
              "          const element = document.querySelector('#df-e95a2acc-6a18-4220-acf1-ff35c94ace90');\n",
              "          const dataTable =\n",
              "            await google.colab.kernel.invokeFunction('convertToInteractive',\n",
              "                                                     [key], {});\n",
              "          if (!dataTable) return;\n",
              "\n",
              "          const docLinkHtml = 'Like what you see? Visit the ' +\n",
              "            '<a target=\"_blank\" href=https://colab.research.google.com/notebooks/data_table.ipynb>data table notebook</a>'\n",
              "            + ' to learn more about interactive tables.';\n",
              "          element.innerHTML = '';\n",
              "          dataTable['output_type'] = 'display_data';\n",
              "          await google.colab.output.renderOutput(dataTable, element);\n",
              "          const docLink = document.createElement('div');\n",
              "          docLink.innerHTML = docLinkHtml;\n",
              "          element.appendChild(docLink);\n",
              "        }\n",
              "      </script>\n",
              "    </div>\n",
              "  </div>\n",
              "  "
            ]
          },
          "metadata": {},
          "execution_count": 8
        }
      ],
      "source": [
        "df.describe().T"
      ]
    },
    {
      "cell_type": "code",
      "execution_count": 9,
      "metadata": {
        "colab": {
          "base_uri": "https://localhost:8080/",
          "height": 369
        },
        "id": "VUjm5W5RRpXw",
        "outputId": "00c54b73-0bbe-4106-e40f-12e2b58fd178"
      },
      "outputs": [
        {
          "output_type": "display_data",
          "data": {
            "text/plain": [
              "<Figure size 576x360 with 8 Axes>"
            ],
            "image/png": "[encoded data removed]"
          },
          "metadata": {
            "needs_background": "light"
          }
        }
      ],
      "source": [
        "numeric_cols = df.select_dtypes(include=np.number).columns\n",
        "fig, ax = plt.subplots(2, 4, figsize=(8, 5))\n",
        "for i, col in enumerate(numeric_cols):\n",
        "    ax[i//4, i%4].set_title(col)\n",
        "    sns.boxplot(df[col], ax=ax[i//4, i%4]) # i//4, i%4 is the position of the subplot\n",
        "plt.tight_layout(w_pad=1)\n",
        "plt.show()"
      ]
    },
    {
      "cell_type": "code",
      "execution_count": 10,
      "metadata": {
        "colab": {
          "base_uri": "https://localhost:8080/",
          "height": 891
        },
        "id": "x2WaqWyoRpXx",
        "outputId": "db89802f-8c1c-4f5e-e6f9-26d74328adff"
      },
      "outputs": [
        {
          "output_type": "stream",
          "name": "stdout",
          "text": [
            "13\n"
          ]
        },
        {
          "output_type": "display_data",
          "data": {
            "text/plain": [
              "<Figure size 1080x864 with 16 Axes>"
            ],
            "image/png": "[encoded data removed]"
          },
          "metadata": {
            "needs_background": "light"
          }
        }
      ],
      "source": [
        "# Plot the frequency of categorical columns using barplot\n",
        "categorical_cols = df.select_dtypes(include='object').columns\n",
        "print(len(categorical_cols))\n",
        "fig, ax = plt.subplots(4, 4, figsize=(15, 12))\n",
        "for i, col in enumerate(categorical_cols):\n",
        "    ax[i//4, i%4].set_title(col)\n",
        "    #df[col].value_counts().plot(kind='bar', ax=ax[i//4, i%4], hue=df['hue_col'])\n",
        "    sns.countplot(x=col, data=df, ax=ax[i//4, i%4], hue='Cost.Matrix')\n",
        "plt.tight_layout(w_pad=1)\n",
        "plt.show()"
      ]
    },
    {
      "cell_type": "code",
      "execution_count": 11,
      "metadata": {
        "colab": {
          "base_uri": "https://localhost:8080/"
        },
        "id": "Hl73rQlkRpXy",
        "outputId": "d23f646f-71de-4cc6-9d50-5d6071a9c975"
      },
      "outputs": [
        {
          "output_type": "stream",
          "name": "stdout",
          "text": [
            "Index(['Checking.Account', 'Duration', 'Credit.Hist', 'Purpose',\n",
            "       'Credit.Amount', 'Saving.Account', 'Employmnet', 'Disposable.Income',\n",
            "       'Personal.Status', 'Other.Debtors', 'Present.Residence', 'Property',\n",
            "       'Age', 'Other.Loans', 'Housing', 'Existing.Credits', 'Job',\n",
            "       'Number.Liable', 'Telephone', 'Foreign.Worker'],\n",
            "      dtype='object')\n",
            "20\n"
          ]
        }
      ],
      "source": [
        "prediction_col = 'Cost.Matrix'\n",
        "feature_cols = df.columns.drop(prediction_col)\n",
        "print(feature_cols)\n",
        "print(len(feature_cols))"
      ]
    },
    {
      "cell_type": "code",
      "execution_count": 12,
      "metadata": {
        "colab": {
          "base_uri": "https://localhost:8080/",
          "height": 354
        },
        "id": "R_upRWv6RpXz",
        "outputId": "6c306cb7-10c0-423d-adc3-1612f88f32a8"
      },
      "outputs": [
        {
          "output_type": "display_data",
          "data": {
            "text/plain": [
              "<Figure size 432x288 with 2 Axes>"
            ],
            "image/png": "[encoded data removed]"
          },
          "metadata": {
            "needs_background": "light"
          }
        }
      ],
      "source": [
        "_ = sns.heatmap(df.corr())"
      ]
    },
    {
      "cell_type": "code",
      "execution_count": 13,
      "metadata": {
        "colab": {
          "base_uri": "https://localhost:8080/"
        },
        "id": "jhEUB6t3GayB",
        "outputId": "60f9ce54-1c5e-44d1-e152-e1279705ee86"
      },
      "outputs": [
        {
          "output_type": "execute_result",
          "data": {
            "text/plain": [
              "Cost.Matrix          1.000000\n",
              "Duration             0.214927\n",
              "Credit.Amount        0.154739\n",
              "Age                  0.091127\n",
              "Disposable.Income    0.072404\n",
              "Existing.Credits     0.045732\n",
              "Number.Liable        0.003015\n",
              "Present.Residence    0.002967\n",
              "Name: Cost.Matrix, dtype: float64"
            ]
          },
          "metadata": {},
          "execution_count": 13
        }
      ],
      "source": [
        "correlation = df.corr()['Cost.Matrix'].abs().sort_values(ascending=False)\n",
        "correlation"
      ]
    },
    {
      "cell_type": "code",
      "execution_count": 14,
      "metadata": {
        "colab": {
          "base_uri": "https://localhost:8080/",
          "height": 300
        },
        "id": "6Lf1BXaWAgF0",
        "outputId": "556c068c-4f8c-444b-a047-0dedead89860"
      },
      "outputs": [
        {
          "output_type": "execute_result",
          "data": {
            "text/plain": [
              "                   Duration  Credit.Amount  Disposable.Income  \\\n",
              "Duration           1.000000       0.624984           0.074749   \n",
              "Credit.Amount      0.624984       1.000000          -0.271316   \n",
              "Disposable.Income  0.074749      -0.271316           1.000000   \n",
              "Present.Residence  0.034067       0.028926           0.049302   \n",
              "Age               -0.036136       0.032716           0.058266   \n",
              "Existing.Credits  -0.011284       0.020795           0.021669   \n",
              "Number.Liable     -0.023834       0.017142          -0.071207   \n",
              "Cost.Matrix        0.214927       0.154739           0.072404   \n",
              "\n",
              "                   Present.Residence       Age  Existing.Credits  \\\n",
              "Duration                    0.034067 -0.036136         -0.011284   \n",
              "Credit.Amount               0.028926  0.032716          0.020795   \n",
              "Disposable.Income           0.049302  0.058266          0.021669   \n",
              "Present.Residence           1.000000  0.266419          0.089625   \n",
              "Age                         0.266419  1.000000          0.149254   \n",
              "Existing.Credits            0.089625  0.149254          1.000000   \n",
              "Number.Liable               0.042643  0.118201          0.109667   \n",
              "Cost.Matrix                 0.002967 -0.091127         -0.045732   \n",
              "\n",
              "                   Number.Liable  Cost.Matrix  \n",
              "Duration               -0.023834     0.214927  \n",
              "Credit.Amount           0.017142     0.154739  \n",
              "Disposable.Income      -0.071207     0.072404  \n",
              "Present.Residence       0.042643     0.002967  \n",
              "Age                     0.118201    -0.091127  \n",
              "Existing.Credits        0.109667    -0.045732  \n",
              "Number.Liable           1.000000    -0.003015  \n",
              "Cost.Matrix            -0.003015     1.000000  "
            ],
            "text/html": [
              "\n",
              "  <div id=\"df-8d5d29be-c5fe-4b6f-afcf-7804fd4b0591\">\n",
              "    <div class=\"colab-df-container\">\n",
              "      <div>\n",
              "<style scoped>\n",
              "    .dataframe tbody tr th:only-of-type {\n",
              "        vertical-align: middle;\n",
              "    }\n",
              "\n",
              "    .dataframe tbody tr th {\n",
              "        vertical-align: top;\n",
              "    }\n",
              "\n",
              "    .dataframe thead th {\n",
              "        text-align: right;\n",
              "    }\n",
              "</style>\n",
              "<table border=\"1\" class=\"dataframe\">\n",
              "  <thead>\n",
              "    <tr style=\"text-align: right;\">\n",
              "      <th></th>\n",
              "      <th>Duration</th>\n",
              "      <th>Credit.Amount</th>\n",
              "      <th>Disposable.Income</th>\n",
              "      <th>Present.Residence</th>\n",
              "      <th>Age</th>\n",
              "      <th>Existing.Credits</th>\n",
              "      <th>Number.Liable</th>\n",
              "      <th>Cost.Matrix</th>\n",
              "    </tr>\n",
              "  </thead>\n",
              "  <tbody>\n",
              "    <tr>\n",
              "      <th>Duration</th>\n",
              "      <td>1.000000</td>\n",
              "      <td>0.624984</td>\n",
              "      <td>0.074749</td>\n",
              "      <td>0.034067</td>\n",
              "      <td>-0.036136</td>\n",
              "      <td>-0.011284</td>\n",
              "      <td>-0.023834</td>\n",
              "      <td>0.214927</td>\n",
              "    </tr>\n",
              "    <tr>\n",
              "      <th>Credit.Amount</th>\n",
              "      <td>0.624984</td>\n",
              "      <td>1.000000</td>\n",
              "      <td>-0.271316</td>\n",
              "      <td>0.028926</td>\n",
              "      <td>0.032716</td>\n",
              "      <td>0.020795</td>\n",
              "      <td>0.017142</td>\n",
              "      <td>0.154739</td>\n",
              "    </tr>\n",
              "    <tr>\n",
              "      <th>Disposable.Income</th>\n",
              "      <td>0.074749</td>\n",
              "      <td>-0.271316</td>\n",
              "      <td>1.000000</td>\n",
              "      <td>0.049302</td>\n",
              "      <td>0.058266</td>\n",
              "      <td>0.021669</td>\n",
              "      <td>-0.071207</td>\n",
              "      <td>0.072404</td>\n",
              "    </tr>\n",
              "    <tr>\n",
              "      <th>Present.Residence</th>\n",
              "      <td>0.034067</td>\n",
              "      <td>0.028926</td>\n",
              "      <td>0.049302</td>\n",
              "      <td>1.000000</td>\n",
              "      <td>0.266419</td>\n",
              "      <td>0.089625</td>\n",
              "      <td>0.042643</td>\n",
              "      <td>0.002967</td>\n",
              "    </tr>\n",
              "    <tr>\n",
              "      <th>Age</th>\n",
              "      <td>-0.036136</td>\n",
              "      <td>0.032716</td>\n",
              "      <td>0.058266</td>\n",
              "      <td>0.266419</td>\n",
              "      <td>1.000000</td>\n",
              "      <td>0.149254</td>\n",
              "      <td>0.118201</td>\n",
              "      <td>-0.091127</td>\n",
              "    </tr>\n",
              "    <tr>\n",
              "      <th>Existing.Credits</th>\n",
              "      <td>-0.011284</td>\n",
              "      <td>0.020795</td>\n",
              "      <td>0.021669</td>\n",
              "      <td>0.089625</td>\n",
              "      <td>0.149254</td>\n",
              "      <td>1.000000</td>\n",
              "      <td>0.109667</td>\n",
              "      <td>-0.045732</td>\n",
              "    </tr>\n",
              "    <tr>\n",
              "      <th>Number.Liable</th>\n",
              "      <td>-0.023834</td>\n",
              "      <td>0.017142</td>\n",
              "      <td>-0.071207</td>\n",
              "      <td>0.042643</td>\n",
              "      <td>0.118201</td>\n",
              "      <td>0.109667</td>\n",
              "      <td>1.000000</td>\n",
              "      <td>-0.003015</td>\n",
              "    </tr>\n",
              "    <tr>\n",
              "      <th>Cost.Matrix</th>\n",
              "      <td>0.214927</td>\n",
              "      <td>0.154739</td>\n",
              "      <td>0.072404</td>\n",
              "      <td>0.002967</td>\n",
              "      <td>-0.091127</td>\n",
              "      <td>-0.045732</td>\n",
              "      <td>-0.003015</td>\n",
              "      <td>1.000000</td>\n",
              "    </tr>\n",
              "  </tbody>\n",
              "</table>\n",
              "</div>\n",
              "      <button class=\"colab-df-convert\" onclick=\"convertToInteractive('df-8d5d29be-c5fe-4b6f-afcf-7804fd4b0591')\"\n",
              "              title=\"Convert this dataframe to an interactive table.\"\n",
              "              style=\"display:none;\">\n",
              "        \n",
              "  <svg xmlns=\"http://www.w3.org/2000/svg\" height=\"24px\"viewBox=\"0 0 24 24\"\n",
              "       width=\"24px\">\n",
              "    <path d=\"M0 0h24v24H0V0z\" fill=\"none\"/>\n",
              "    <path d=\"M18.56 5.44l.94 2.06.94-2.06 2.06-.94-2.06-.94-.94-2.06-.94 2.06-2.06.94zm-11 1L8.5 8.5l.94-2.06 2.06-.94-2.06-.94L8.5 2.5l-.94 2.06-2.06.94zm10 10l.94 2.06.94-2.06 2.06-.94-2.06-.94-.94-2.06-.94 2.06-2.06.94z\"/><path d=\"M17.41 7.96l-1.37-1.37c-.4-.4-.92-.59-1.43-.59-.52 0-1.04.2-1.43.59L10.3 9.45l-7.72 7.72c-.78.78-.78 2.05 0 2.83L4 21.41c.39.39.9.59 1.41.59.51 0 1.02-.2 1.41-.59l7.78-7.78 2.81-2.81c.8-.78.8-2.07 0-2.86zM5.41 20L4 18.59l7.72-7.72 1.47 1.35L5.41 20z\"/>\n",
              "  </svg>\n",
              "      </button>\n",
              "      \n",
              "  <style>\n",
              "    .colab-df-container {\n",
              "      display:flex;\n",
              "      flex-wrap:wrap;\n",
              "      gap: 12px;\n",
              "    }\n",
              "\n",
              "    .colab-df-convert {\n",
              "      background-color: #E8F0FE;\n",
              "      border: none;\n",
              "      border-radius: 50%;\n",
              "      cursor: pointer;\n",
              "      display: none;\n",
              "      fill: #1967D2;\n",
              "      height: 32px;\n",
              "      padding: 0 0 0 0;\n",
              "      width: 32px;\n",
              "    }\n",
              "\n",
              "    .colab-df-convert:hover {\n",
              "      background-color: #E2EBFA;\n",
              "      box-shadow: 0px 1px 2px rgba(60, 64, 67, 0.3), 0px 1px 3px 1px rgba(60, 64, 67, 0.15);\n",
              "      fill: #174EA6;\n",
              "    }\n",
              "\n",
              "    [theme=dark] .colab-df-convert {\n",
              "      background-color: #3B4455;\n",
              "      fill: #D2E3FC;\n",
              "    }\n",
              "\n",
              "    [theme=dark] .colab-df-convert:hover {\n",
              "      background-color: #434B5C;\n",
              "      box-shadow: 0px 1px 3px 1px rgba(0, 0, 0, 0.15);\n",
              "      filter: drop-shadow(0px 1px 2px rgba(0, 0, 0, 0.3));\n",
              "      fill: #FFFFFF;\n",
              "    }\n",
              "  </style>\n",
              "\n",
              "      <script>\n",
              "        const buttonEl =\n",
              "          document.querySelector('#df-8d5d29be-c5fe-4b6f-afcf-7804fd4b0591 button.colab-df-convert');\n",
              "        buttonEl.style.display =\n",
              "          google.colab.kernel.accessAllowed ? 'block' : 'none';\n",
              "\n",
              "        async function convertToInteractive(key) {\n",
              "          const element = document.querySelector('#df-8d5d29be-c5fe-4b6f-afcf-7804fd4b0591');\n",
              "          const dataTable =\n",
              "            await google.colab.kernel.invokeFunction('convertToInteractive',\n",
              "                                                     [key], {});\n",
              "          if (!dataTable) return;\n",
              "\n",
              "          const docLinkHtml = 'Like what you see? Visit the ' +\n",
              "            '<a target=\"_blank\" href=https://colab.research.google.com/notebooks/data_table.ipynb>data table notebook</a>'\n",
              "            + ' to learn more about interactive tables.';\n",
              "          element.innerHTML = '';\n",
              "          dataTable['output_type'] = 'display_data';\n",
              "          await google.colab.output.renderOutput(dataTable, element);\n",
              "          const docLink = document.createElement('div');\n",
              "          docLink.innerHTML = docLinkHtml;\n",
              "          element.appendChild(docLink);\n",
              "        }\n",
              "      </script>\n",
              "    </div>\n",
              "  </div>\n",
              "  "
            ]
          },
          "metadata": {},
          "execution_count": 14
        }
      ],
      "source": [
        "df.corr()"
      ]
    },
    {
      "cell_type": "code",
      "execution_count": 15,
      "metadata": {
        "id": "EqXrz3jFRpX2"
      },
      "outputs": [],
      "source": [
        "X = df[feature_cols].values\n",
        "y = df[prediction_col].values\n",
        "\n",
        "#split the dataset into the train and test data\n",
        "x_train, x_test, y_train, y_test = train_test_split(X, y, test_size=0.33, random_state=41)"
      ]
    },
    {
      "cell_type": "code",
      "execution_count": 16,
      "metadata": {
        "id": "u6xGLCTHRpX3"
      },
      "outputs": [],
      "source": [
        "# Use LabelEncoder to encode the categorical columns\n",
        "le = LabelEncoder()\n",
        "for i in range(len(feature_cols)):\n",
        "    if df[feature_cols[i]].dtype == 'object':\n",
        "        x_train[:, i] = le.fit_transform(x_train[:, i])\n",
        "        x_test[:, i] = le.transform(x_test[:, i])"
      ]
    },
    {
      "cell_type": "code",
      "execution_count": 17,
      "metadata": {
        "colab": {
          "base_uri": "https://localhost:8080/"
        },
        "id": "SG_Hf-B8RpX4",
        "outputId": "825ab16b-09b6-457d-c45d-5579eebc4e82"
      },
      "outputs": [
        {
          "output_type": "execute_result",
          "data": {
            "text/plain": [
              "DecisionTreeClassifier(class_weight={1: 1, 2: 0.8}, criterion='entropy',\n",
              "                       max_depth=3, random_state=41)"
            ]
          },
          "metadata": {},
          "execution_count": 17
        }
      ],
      "source": [
        "# Create a Decision Tree Classifier\n",
        "dtree = DecisionTreeClassifier(criterion='entropy', class_weight={1:1, 2:.8}, max_depth=3, random_state=41)\n",
        "dtree.fit(x_train, y_train)"
      ]
    },
    {
      "cell_type": "code",
      "execution_count": 18,
      "metadata": {
        "colab": {
          "base_uri": "https://localhost:8080/",
          "height": 332
        },
        "id": "himIU6ahRpX5",
        "outputId": "26c3f236-fc78-4393-b24c-f63d01176662"
      },
      "outputs": [
        {
          "output_type": "display_data",
          "data": {
            "text/plain": [
              "<Figure size 432x288 with 2 Axes>"
            ],
            "image/png": "[encoded data removed]"
          },
          "metadata": {
            "needs_background": "light"
          }
        },
        {
          "output_type": "stream",
          "name": "stdout",
          "text": [
            "(array([1, 2]), array([234,  96]))\n",
            "[[232   2]\n",
            " [ 95   1]]\n"
          ]
        }
      ],
      "source": [
        "# Plot a Heatmap of the Confusion Matrix\n",
        "y_pred = dtree.predict(x_test)\n",
        "cm = confusion_matrix(y_test, y_pred)\n",
        "group_names =[ 'True Pos','False Neg','False Pos','True Neg']\n",
        "group_percentages = cm / cm.sum(axis=1)[:, np.newaxis]\n",
        "# add groups names and percentages to the heatmap\n",
        "labels = [f\"{v1} ({v2:.2%})\\n{v3}\" for v1, v2, v3 in zip(cm.flatten(), group_percentages.flatten(), group_names)]\n",
        "labels = np.asarray(labels).reshape(2,2)\n",
        "ax = sns.heatmap(cm, annot=labels, fmt='', cmap='Blues')\n",
        "plt.xlabel('Predicted')\n",
        "plt.ylabel('Actual')\n",
        "ax.set_yticklabels(['Good','Bad'] ,rotation=0)\n",
        "ax.set_xticklabels(['Good','Bad'])\n",
        "plt.show()\n",
        "print(np.unique(y_test, return_counts=True))\n",
        "print(cm)"
      ]
    },
    {
      "cell_type": "code",
      "execution_count": 19,
      "metadata": {
        "colab": {
          "base_uri": "https://localhost:8080/"
        },
        "id": "VOmis85ORpX6",
        "outputId": "9421d394-eacb-4d62-f4bf-4da2094b3ce8"
      },
      "outputs": [
        {
          "output_type": "stream",
          "name": "stdout",
          "text": [
            "Accuracy Score:  0.706060606060606\n",
            "Classification Report: \n",
            "              precision    recall  f1-score   support\n",
            "\n",
            "           1       0.71      0.99      0.83       234\n",
            "           2       0.33      0.01      0.02        96\n",
            "\n",
            "    accuracy                           0.71       330\n",
            "   macro avg       0.52      0.50      0.42       330\n",
            "weighted avg       0.60      0.71      0.59       330\n",
            "\n"
          ]
        }
      ],
      "source": [
        "# Import classification_report\n",
        "from sklearn.metrics import classification_report\n",
        "# Print the accuracy score and classification report\n",
        "print('Accuracy Score: ', accuracy_score(y_test, y_pred))\n",
        "print('Classification Report: ')\n",
        "print(classification_report(y_test, y_pred))"
      ]
    },
    {
      "cell_type": "code",
      "execution_count": 20,
      "metadata": {
        "colab": {
          "base_uri": "https://localhost:8080/",
          "height": 634
        },
        "id": "qwcHsjq6XTsS",
        "outputId": "3299e0b1-e77d-4641-d372-8cfcef60ccda"
      },
      "outputs": [
        {
          "output_type": "stream",
          "name": "stdout",
          "text": [
            "Looking in indexes: https://pypi.org/simple, https://us-python.pkg.dev/colab-wheels/public/simple/\n",
            "Requirement already satisfied: graphviz in /usr/local/lib/python3.8/dist-packages (0.10.1)\n"
          ]
        },
        {
          "output_type": "execute_result",
          "data": {
            "text/plain": [
              "<graphviz.files.Source at 0x7f61d627d0a0>"
            ],
            "image/svg+xml": "<?xml version=\"1.0\" encoding=\"UTF-8\" standalone=\"no\"?>\n<!DOCTYPE svg PUBLIC \"-//W3C//DTD SVG 1.1//EN\"\n \"http://www.w3.org/Graphics/SVG/1.1/DTD/svg11.dtd\">\n<!-- Generated by graphviz version 2.43.0 (0)\n -->\n<!-- Title: Tree Pages: 1 -->\n<svg width=\"1164pt\" height=\"433pt\"\n viewBox=\"0.00 0.00 1163.50 433.00\" xmlns=\"http://www.w3.org/2000/svg\" xmlns:xlink=\"http://www.w3.org/1999/xlink\">\n<g id=\"graph0\" class=\"graph\" transform=\"scale(1 1) rotate(0) translate(4 429)\">\n<title>Tree</title>\n<polygon fill=\"white\" stroke=\"transparent\" points=\"-4,4 -4,-429 1159.5,-429 1159.5,4 -4,4\"/>\n<!-- 0 -->\n<g id=\"node1\" class=\"node\">\n<title>0</title>\n<path fill=\"#eead7e\" stroke=\"black\" d=\"M627,-425C627,-425 492,-425 492,-425 486,-425 480,-419 480,-413 480,-413 480,-354 480,-354 480,-348 486,-342 492,-342 492,-342 627,-342 627,-342 633,-342 639,-348 639,-354 639,-354 639,-413 639,-413 639,-419 633,-425 627,-425\"/>\n<text text-anchor=\"start\" x=\"488\" y=\"-409.8\" font-family=\"Helvetica,sans-Serif\" font-size=\"14.00\">Checking.Account ≤ 1.5</text>\n<text text-anchor=\"start\" x=\"512\" y=\"-394.8\" font-family=\"Helvetica,sans-Serif\" font-size=\"14.00\">entropy = 0.826</text>\n<text text-anchor=\"start\" x=\"514.5\" y=\"-379.8\" font-family=\"Helvetica,sans-Serif\" font-size=\"14.00\">samples = 670</text>\n<text text-anchor=\"start\" x=\"494\" y=\"-364.8\" font-family=\"Helvetica,sans-Serif\" font-size=\"14.00\">value = [466.0, 163.2]</text>\n<text text-anchor=\"start\" x=\"519\" y=\"-349.8\" font-family=\"Helvetica,sans-Serif\" font-size=\"14.00\">class = Good</text>\n</g>\n<!-- 1 -->\n<g id=\"node2\" class=\"node\">\n<title>1</title>\n<path fill=\"#f6d2b9\" stroke=\"black\" d=\"M537,-306C537,-306 414,-306 414,-306 408,-306 402,-300 402,-294 402,-294 402,-235 402,-235 402,-229 408,-223 414,-223 414,-223 537,-223 537,-223 543,-223 549,-229 549,-235 549,-235 549,-294 549,-294 549,-300 543,-306 537,-306\"/>\n<text text-anchor=\"start\" x=\"433\" y=\"-290.8\" font-family=\"Helvetica,sans-Serif\" font-size=\"14.00\">Property ≤ 0.5</text>\n<text text-anchor=\"start\" x=\"428\" y=\"-275.8\" font-family=\"Helvetica,sans-Serif\" font-size=\"14.00\">entropy = 0.966</text>\n<text text-anchor=\"start\" x=\"430.5\" y=\"-260.8\" font-family=\"Helvetica,sans-Serif\" font-size=\"14.00\">samples = 354</text>\n<text text-anchor=\"start\" x=\"410\" y=\"-245.8\" font-family=\"Helvetica,sans-Serif\" font-size=\"14.00\">value = [196.0, 126.4]</text>\n<text text-anchor=\"start\" x=\"435\" y=\"-230.8\" font-family=\"Helvetica,sans-Serif\" font-size=\"14.00\">class = Good</text>\n</g>\n<!-- 0&#45;&gt;1 -->\n<g id=\"edge1\" class=\"edge\">\n<title>0&#45;&gt;1</title>\n<path fill=\"none\" stroke=\"black\" d=\"M530.36,-341.91C523.97,-333.01 517.15,-323.51 510.56,-314.33\"/>\n<polygon fill=\"black\" stroke=\"black\" points=\"513.27,-312.1 504.59,-306.02 507.58,-316.19 513.27,-312.1\"/>\n<text text-anchor=\"middle\" x=\"500.54\" y=\"-326.99\" font-family=\"Helvetica,sans-Serif\" font-size=\"14.00\">True</text>\n</g>\n<!-- 8 -->\n<g id=\"node9\" class=\"node\">\n<title>8</title>\n<path fill=\"#e99254\" stroke=\"black\" d=\"M756.5,-306C756.5,-306 640.5,-306 640.5,-306 634.5,-306 628.5,-300 628.5,-294 628.5,-294 628.5,-235 628.5,-235 628.5,-229 634.5,-223 640.5,-223 640.5,-223 756.5,-223 756.5,-223 762.5,-223 768.5,-229 768.5,-235 768.5,-235 768.5,-294 768.5,-294 768.5,-300 762.5,-306 756.5,-306\"/>\n<text text-anchor=\"start\" x=\"643\" y=\"-290.8\" font-family=\"Helvetica,sans-Serif\" font-size=\"14.00\">Employmnet ≤ 1.5</text>\n<text text-anchor=\"start\" x=\"651\" y=\"-275.8\" font-family=\"Helvetica,sans-Serif\" font-size=\"14.00\">entropy = 0.529</text>\n<text text-anchor=\"start\" x=\"653.5\" y=\"-260.8\" font-family=\"Helvetica,sans-Serif\" font-size=\"14.00\">samples = 316</text>\n<text text-anchor=\"start\" x=\"636.5\" y=\"-245.8\" font-family=\"Helvetica,sans-Serif\" font-size=\"14.00\">value = [270.0, 36.8]</text>\n<text text-anchor=\"start\" x=\"658\" y=\"-230.8\" font-family=\"Helvetica,sans-Serif\" font-size=\"14.00\">class = Good</text>\n</g>\n<!-- 0&#45;&gt;8 -->\n<g id=\"edge8\" class=\"edge\">\n<title>0&#45;&gt;8</title>\n<path fill=\"none\" stroke=\"black\" d=\"M607.73,-341.91C618.94,-332.47 630.97,-322.34 642.49,-312.65\"/>\n<polygon fill=\"black\" stroke=\"black\" points=\"644.96,-315.14 650.36,-306.02 640.46,-309.78 644.96,-315.14\"/>\n<text text-anchor=\"middle\" x=\"648.22\" y=\"-327.23\" font-family=\"Helvetica,sans-Serif\" font-size=\"14.00\">False</text>\n</g>\n<!-- 2 -->\n<g id=\"node3\" class=\"node\">\n<title>2</title>\n<path fill=\"#eca26c\" stroke=\"black\" d=\"M263.5,-187C263.5,-187 155.5,-187 155.5,-187 149.5,-187 143.5,-181 143.5,-175 143.5,-175 143.5,-116 143.5,-116 143.5,-110 149.5,-104 155.5,-104 155.5,-104 263.5,-104 263.5,-104 269.5,-104 275.5,-110 275.5,-116 275.5,-116 275.5,-175 275.5,-175 275.5,-181 269.5,-187 263.5,-187\"/>\n<text text-anchor=\"start\" x=\"163\" y=\"-171.8\" font-family=\"Helvetica,sans-Serif\" font-size=\"14.00\">Duration ≤ 16.5</text>\n<text text-anchor=\"start\" x=\"162\" y=\"-156.8\" font-family=\"Helvetica,sans-Serif\" font-size=\"14.00\">entropy = 0.734</text>\n<text text-anchor=\"start\" x=\"168.5\" y=\"-141.8\" font-family=\"Helvetica,sans-Serif\" font-size=\"14.00\">samples = 98</text>\n<text text-anchor=\"start\" x=\"151.5\" y=\"-126.8\" font-family=\"Helvetica,sans-Serif\" font-size=\"14.00\">value = [74.0, 19.2]</text>\n<text text-anchor=\"start\" x=\"169\" y=\"-111.8\" font-family=\"Helvetica,sans-Serif\" font-size=\"14.00\">class = Good</text>\n</g>\n<!-- 1&#45;&gt;2 -->\n<g id=\"edge2\" class=\"edge\">\n<title>1&#45;&gt;2</title>\n<path fill=\"none\" stroke=\"black\" d=\"M401.76,-231.06C365.48,-215.11 321.82,-195.9 285.28,-179.83\"/>\n<polygon fill=\"black\" stroke=\"black\" points=\"286.22,-176.42 275.66,-175.6 283.41,-182.83 286.22,-176.42\"/>\n</g>\n<!-- 5 -->\n<g id=\"node6\" class=\"node\">\n<title>5</title>\n<path fill=\"#fcf0e7\" stroke=\"black\" d=\"M547,-187C547,-187 404,-187 404,-187 398,-187 392,-181 392,-175 392,-175 392,-116 392,-116 392,-110 398,-104 404,-104 404,-104 547,-104 547,-104 553,-104 559,-110 559,-116 559,-116 559,-175 559,-175 559,-181 553,-187 547,-187\"/>\n<text text-anchor=\"start\" x=\"400\" y=\"-171.8\" font-family=\"Helvetica,sans-Serif\" font-size=\"14.00\">Credit.Amount ≤ 14248.5</text>\n<text text-anchor=\"start\" x=\"428\" y=\"-156.8\" font-family=\"Helvetica,sans-Serif\" font-size=\"14.00\">entropy = 0.997</text>\n<text text-anchor=\"start\" x=\"430.5\" y=\"-141.8\" font-family=\"Helvetica,sans-Serif\" font-size=\"14.00\">samples = 256</text>\n<text text-anchor=\"start\" x=\"410\" y=\"-126.8\" font-family=\"Helvetica,sans-Serif\" font-size=\"14.00\">value = [122.0, 107.2]</text>\n<text text-anchor=\"start\" x=\"435\" y=\"-111.8\" font-family=\"Helvetica,sans-Serif\" font-size=\"14.00\">class = Good</text>\n</g>\n<!-- 1&#45;&gt;5 -->\n<g id=\"edge5\" class=\"edge\">\n<title>1&#45;&gt;5</title>\n<path fill=\"none\" stroke=\"black\" d=\"M475.5,-222.91C475.5,-214.65 475.5,-205.86 475.5,-197.3\"/>\n<polygon fill=\"black\" stroke=\"black\" points=\"479,-197.02 475.5,-187.02 472,-197.02 479,-197.02\"/>\n</g>\n<!-- 3 -->\n<g id=\"node4\" class=\"node\">\n<title>3</title>\n<path fill=\"#e78c4a\" stroke=\"black\" d=\"M113,-68C113,-68 12,-68 12,-68 6,-68 0,-62 0,-56 0,-56 0,-12 0,-12 0,-6 6,0 12,0 12,0 113,0 113,0 119,0 125,-6 125,-12 125,-12 125,-56 125,-56 125,-62 119,-68 113,-68\"/>\n<text text-anchor=\"start\" x=\"15\" y=\"-52.8\" font-family=\"Helvetica,sans-Serif\" font-size=\"14.00\">entropy = 0.398</text>\n<text text-anchor=\"start\" x=\"21.5\" y=\"-37.8\" font-family=\"Helvetica,sans-Serif\" font-size=\"14.00\">samples = 62</text>\n<text text-anchor=\"start\" x=\"8\" y=\"-22.8\" font-family=\"Helvetica,sans-Serif\" font-size=\"14.00\">value = [56.0, 4.8]</text>\n<text text-anchor=\"start\" x=\"22\" y=\"-7.8\" font-family=\"Helvetica,sans-Serif\" font-size=\"14.00\">class = Good</text>\n</g>\n<!-- 2&#45;&gt;3 -->\n<g id=\"edge3\" class=\"edge\">\n<title>2&#45;&gt;3</title>\n<path fill=\"none\" stroke=\"black\" d=\"M154.76,-103.73C141.91,-94.15 128.23,-83.96 115.45,-74.44\"/>\n<polygon fill=\"black\" stroke=\"black\" points=\"117.31,-71.47 107.2,-68.3 113.13,-77.08 117.31,-71.47\"/>\n</g>\n<!-- 4 -->\n<g id=\"node5\" class=\"node\">\n<title>4</title>\n<path fill=\"#fae6d7\" stroke=\"black\" d=\"M263.5,-68C263.5,-68 155.5,-68 155.5,-68 149.5,-68 143.5,-62 143.5,-56 143.5,-56 143.5,-12 143.5,-12 143.5,-6 149.5,0 155.5,0 155.5,0 263.5,0 263.5,0 269.5,0 275.5,-6 275.5,-12 275.5,-12 275.5,-56 275.5,-56 275.5,-62 269.5,-68 263.5,-68\"/>\n<text text-anchor=\"start\" x=\"162\" y=\"-52.8\" font-family=\"Helvetica,sans-Serif\" font-size=\"14.00\">entropy = 0.991</text>\n<text text-anchor=\"start\" x=\"168.5\" y=\"-37.8\" font-family=\"Helvetica,sans-Serif\" font-size=\"14.00\">samples = 36</text>\n<text text-anchor=\"start\" x=\"151.5\" y=\"-22.8\" font-family=\"Helvetica,sans-Serif\" font-size=\"14.00\">value = [18.0, 14.4]</text>\n<text text-anchor=\"start\" x=\"169\" y=\"-7.8\" font-family=\"Helvetica,sans-Serif\" font-size=\"14.00\">class = Good</text>\n</g>\n<!-- 2&#45;&gt;4 -->\n<g id=\"edge4\" class=\"edge\">\n<title>2&#45;&gt;4</title>\n<path fill=\"none\" stroke=\"black\" d=\"M209.5,-103.73C209.5,-95.52 209.5,-86.86 209.5,-78.56\"/>\n<polygon fill=\"black\" stroke=\"black\" points=\"213,-78.3 209.5,-68.3 206,-78.3 213,-78.3\"/>\n</g>\n<!-- 6 -->\n<g id=\"node7\" class=\"node\">\n<title>6</title>\n<path fill=\"#fbeade\" stroke=\"black\" d=\"M429,-68C429,-68 306,-68 306,-68 300,-68 294,-62 294,-56 294,-56 294,-12 294,-12 294,-6 300,0 306,0 306,0 429,0 429,0 435,0 441,-6 441,-12 441,-12 441,-56 441,-56 441,-62 435,-68 429,-68\"/>\n<text text-anchor=\"start\" x=\"320\" y=\"-52.8\" font-family=\"Helvetica,sans-Serif\" font-size=\"14.00\">entropy = 0.994</text>\n<text text-anchor=\"start\" x=\"322.5\" y=\"-37.8\" font-family=\"Helvetica,sans-Serif\" font-size=\"14.00\">samples = 249</text>\n<text text-anchor=\"start\" x=\"302\" y=\"-22.8\" font-family=\"Helvetica,sans-Serif\" font-size=\"14.00\">value = [122.0, 101.6]</text>\n<text text-anchor=\"start\" x=\"327\" y=\"-7.8\" font-family=\"Helvetica,sans-Serif\" font-size=\"14.00\">class = Good</text>\n</g>\n<!-- 5&#45;&gt;6 -->\n<g id=\"edge6\" class=\"edge\">\n<title>5&#45;&gt;6</title>\n<path fill=\"none\" stroke=\"black\" d=\"M435.28,-103.73C426.2,-94.51 416.56,-84.74 407.48,-75.53\"/>\n<polygon fill=\"black\" stroke=\"black\" points=\"409.86,-72.96 400.34,-68.3 404.87,-77.88 409.86,-72.96\"/>\n</g>\n<!-- 7 -->\n<g id=\"node8\" class=\"node\">\n<title>7</title>\n<path fill=\"#399de5\" stroke=\"black\" d=\"M564,-68C564,-68 471,-68 471,-68 465,-68 459,-62 459,-56 459,-56 459,-12 459,-12 459,-6 465,0 471,0 471,0 564,0 564,0 570,0 576,-6 576,-12 576,-12 576,-56 576,-56 576,-62 570,-68 564,-68\"/>\n<text text-anchor=\"start\" x=\"477.5\" y=\"-52.8\" font-family=\"Helvetica,sans-Serif\" font-size=\"14.00\">entropy = 0.0</text>\n<text text-anchor=\"start\" x=\"480\" y=\"-37.8\" font-family=\"Helvetica,sans-Serif\" font-size=\"14.00\">samples = 7</text>\n<text text-anchor=\"start\" x=\"467\" y=\"-22.8\" font-family=\"Helvetica,sans-Serif\" font-size=\"14.00\">value = [0.0, 5.6]</text>\n<text text-anchor=\"start\" x=\"482\" y=\"-7.8\" font-family=\"Helvetica,sans-Serif\" font-size=\"14.00\">class = Bad</text>\n</g>\n<!-- 5&#45;&gt;7 -->\n<g id=\"edge7\" class=\"edge\">\n<title>5&#45;&gt;7</title>\n<path fill=\"none\" stroke=\"black\" d=\"M491.14,-103.73C494.39,-95.24 497.83,-86.28 501.11,-77.73\"/>\n<polygon fill=\"black\" stroke=\"black\" points=\"504.41,-78.89 504.73,-68.3 497.88,-76.38 504.41,-78.89\"/>\n</g>\n<!-- 9 -->\n<g id=\"node10\" class=\"node\">\n<title>9</title>\n<path fill=\"#efb184\" stroke=\"black\" d=\"M752.5,-187C752.5,-187 644.5,-187 644.5,-187 638.5,-187 632.5,-181 632.5,-175 632.5,-175 632.5,-116 632.5,-116 632.5,-110 638.5,-104 644.5,-104 644.5,-104 752.5,-104 752.5,-104 758.5,-104 764.5,-110 764.5,-116 764.5,-116 764.5,-175 764.5,-175 764.5,-181 758.5,-187 752.5,-187\"/>\n<text text-anchor=\"start\" x=\"656\" y=\"-171.8\" font-family=\"Helvetica,sans-Serif\" font-size=\"14.00\">Purpose ≤ 8.5</text>\n<text text-anchor=\"start\" x=\"651\" y=\"-156.8\" font-family=\"Helvetica,sans-Serif\" font-size=\"14.00\">entropy = 0.848</text>\n<text text-anchor=\"start\" x=\"657.5\" y=\"-141.8\" font-family=\"Helvetica,sans-Serif\" font-size=\"14.00\">samples = 56</text>\n<text text-anchor=\"start\" x=\"640.5\" y=\"-126.8\" font-family=\"Helvetica,sans-Serif\" font-size=\"14.00\">value = [38.0, 14.4]</text>\n<text text-anchor=\"start\" x=\"658\" y=\"-111.8\" font-family=\"Helvetica,sans-Serif\" font-size=\"14.00\">class = Good</text>\n</g>\n<!-- 8&#45;&gt;9 -->\n<g id=\"edge9\" class=\"edge\">\n<title>8&#45;&gt;9</title>\n<path fill=\"none\" stroke=\"black\" d=\"M698.5,-222.91C698.5,-214.65 698.5,-205.86 698.5,-197.3\"/>\n<polygon fill=\"black\" stroke=\"black\" points=\"702,-197.02 698.5,-187.02 695,-197.02 702,-197.02\"/>\n</g>\n<!-- 12 -->\n<g id=\"node13\" class=\"node\">\n<title>12</title>\n<path fill=\"#e88d4c\" stroke=\"black\" d=\"M992.5,-187C992.5,-187 876.5,-187 876.5,-187 870.5,-187 864.5,-181 864.5,-175 864.5,-175 864.5,-116 864.5,-116 864.5,-110 870.5,-104 876.5,-104 876.5,-104 992.5,-104 992.5,-104 998.5,-104 1004.5,-110 1004.5,-116 1004.5,-116 1004.5,-175 1004.5,-175 1004.5,-181 998.5,-187 992.5,-187\"/>\n<text text-anchor=\"start\" x=\"880\" y=\"-171.8\" font-family=\"Helvetica,sans-Serif\" font-size=\"14.00\">Other.Loans ≤ 1.5</text>\n<text text-anchor=\"start\" x=\"890.5\" y=\"-156.8\" font-family=\"Helvetica,sans-Serif\" font-size=\"14.00\">entropy = 0.43</text>\n<text text-anchor=\"start\" x=\"889.5\" y=\"-141.8\" font-family=\"Helvetica,sans-Serif\" font-size=\"14.00\">samples = 260</text>\n<text text-anchor=\"start\" x=\"872.5\" y=\"-126.8\" font-family=\"Helvetica,sans-Serif\" font-size=\"14.00\">value = [232.0, 22.4]</text>\n<text text-anchor=\"start\" x=\"894\" y=\"-111.8\" font-family=\"Helvetica,sans-Serif\" font-size=\"14.00\">class = Good</text>\n</g>\n<!-- 8&#45;&gt;12 -->\n<g id=\"edge12\" class=\"edge\">\n<title>8&#45;&gt;12</title>\n<path fill=\"none\" stroke=\"black\" d=\"M768.67,-228.71C795.89,-215.22 827.19,-199.7 855.22,-185.8\"/>\n<polygon fill=\"black\" stroke=\"black\" points=\"856.79,-188.93 864.19,-181.36 853.68,-182.66 856.79,-188.93\"/>\n</g>\n<!-- 10 -->\n<g id=\"node11\" class=\"node\">\n<title>10</title>\n<path fill=\"#eb9e67\" stroke=\"black\" d=\"M707,-68C707,-68 606,-68 606,-68 600,-68 594,-62 594,-56 594,-56 594,-12 594,-12 594,-6 600,0 606,0 606,0 707,0 707,0 713,0 719,-6 719,-12 719,-12 719,-56 719,-56 719,-62 713,-68 707,-68\"/>\n<text text-anchor=\"start\" x=\"609\" y=\"-52.8\" font-family=\"Helvetica,sans-Serif\" font-size=\"14.00\">entropy = 0.697</text>\n<text text-anchor=\"start\" x=\"615.5\" y=\"-37.8\" font-family=\"Helvetica,sans-Serif\" font-size=\"14.00\">samples = 49</text>\n<text text-anchor=\"start\" x=\"602\" y=\"-22.8\" font-family=\"Helvetica,sans-Serif\" font-size=\"14.00\">value = [38.0, 8.8]</text>\n<text text-anchor=\"start\" x=\"616\" y=\"-7.8\" font-family=\"Helvetica,sans-Serif\" font-size=\"14.00\">class = Good</text>\n</g>\n<!-- 9&#45;&gt;10 -->\n<g id=\"edge10\" class=\"edge\">\n<title>9&#45;&gt;10</title>\n<path fill=\"none\" stroke=\"black\" d=\"M682.86,-103.73C679.61,-95.24 676.17,-86.28 672.89,-77.73\"/>\n<polygon fill=\"black\" stroke=\"black\" points=\"676.12,-76.38 669.27,-68.3 669.59,-78.89 676.12,-76.38\"/>\n</g>\n<!-- 11 -->\n<g id=\"node12\" class=\"node\">\n<title>11</title>\n<path fill=\"#399de5\" stroke=\"black\" d=\"M842,-68C842,-68 749,-68 749,-68 743,-68 737,-62 737,-56 737,-56 737,-12 737,-12 737,-6 743,0 749,0 749,0 842,0 842,0 848,0 854,-6 854,-12 854,-12 854,-56 854,-56 854,-62 848,-68 842,-68\"/>\n<text text-anchor=\"start\" x=\"753\" y=\"-52.8\" font-family=\"Helvetica,sans-Serif\" font-size=\"14.00\">entropy = &#45;0.0</text>\n<text text-anchor=\"start\" x=\"758\" y=\"-37.8\" font-family=\"Helvetica,sans-Serif\" font-size=\"14.00\">samples = 7</text>\n<text text-anchor=\"start\" x=\"745\" y=\"-22.8\" font-family=\"Helvetica,sans-Serif\" font-size=\"14.00\">value = [0.0, 5.6]</text>\n<text text-anchor=\"start\" x=\"760\" y=\"-7.8\" font-family=\"Helvetica,sans-Serif\" font-size=\"14.00\">class = Bad</text>\n</g>\n<!-- 9&#45;&gt;11 -->\n<g id=\"edge11\" class=\"edge\">\n<title>9&#45;&gt;11</title>\n<path fill=\"none\" stroke=\"black\" d=\"M734.62,-103.73C742.7,-94.61 751.27,-84.93 759.35,-75.81\"/>\n<polygon fill=\"black\" stroke=\"black\" points=\"761.99,-78.11 766,-68.3 756.75,-73.46 761.99,-78.11\"/>\n</g>\n<!-- 13 -->\n<g id=\"node14\" class=\"node\">\n<title>13</title>\n<path fill=\"#eeac7d\" stroke=\"black\" d=\"M985,-68C985,-68 884,-68 884,-68 878,-68 872,-62 872,-56 872,-56 872,-12 872,-12 872,-6 878,0 884,0 884,0 985,0 985,0 991,0 997,-6 997,-12 997,-12 997,-56 997,-56 997,-62 991,-68 985,-68\"/>\n<text text-anchor=\"start\" x=\"890.5\" y=\"-52.8\" font-family=\"Helvetica,sans-Serif\" font-size=\"14.00\">entropy = 0.82</text>\n<text text-anchor=\"start\" x=\"893.5\" y=\"-37.8\" font-family=\"Helvetica,sans-Serif\" font-size=\"14.00\">samples = 40</text>\n<text text-anchor=\"start\" x=\"880\" y=\"-22.8\" font-family=\"Helvetica,sans-Serif\" font-size=\"14.00\">value = [28.0, 9.6]</text>\n<text text-anchor=\"start\" x=\"894\" y=\"-7.8\" font-family=\"Helvetica,sans-Serif\" font-size=\"14.00\">class = Good</text>\n</g>\n<!-- 12&#45;&gt;13 -->\n<g id=\"edge13\" class=\"edge\">\n<title>12&#45;&gt;13</title>\n<path fill=\"none\" stroke=\"black\" d=\"M934.5,-103.73C934.5,-95.52 934.5,-86.86 934.5,-78.56\"/>\n<polygon fill=\"black\" stroke=\"black\" points=\"938,-78.3 934.5,-68.3 931,-78.3 938,-78.3\"/>\n</g>\n<!-- 14 -->\n<g id=\"node15\" class=\"node\">\n<title>14</title>\n<path fill=\"#e78945\" stroke=\"black\" d=\"M1143.5,-68C1143.5,-68 1027.5,-68 1027.5,-68 1021.5,-68 1015.5,-62 1015.5,-56 1015.5,-56 1015.5,-12 1015.5,-12 1015.5,-6 1021.5,0 1027.5,0 1027.5,0 1143.5,0 1143.5,0 1149.5,0 1155.5,-6 1155.5,-12 1155.5,-12 1155.5,-56 1155.5,-56 1155.5,-62 1149.5,-68 1143.5,-68\"/>\n<text text-anchor=\"start\" x=\"1038\" y=\"-52.8\" font-family=\"Helvetica,sans-Serif\" font-size=\"14.00\">entropy = 0.324</text>\n<text text-anchor=\"start\" x=\"1040.5\" y=\"-37.8\" font-family=\"Helvetica,sans-Serif\" font-size=\"14.00\">samples = 220</text>\n<text text-anchor=\"start\" x=\"1023.5\" y=\"-22.8\" font-family=\"Helvetica,sans-Serif\" font-size=\"14.00\">value = [204.0, 12.8]</text>\n<text text-anchor=\"start\" x=\"1045\" y=\"-7.8\" font-family=\"Helvetica,sans-Serif\" font-size=\"14.00\">class = Good</text>\n</g>\n<!-- 12&#45;&gt;14 -->\n<g id=\"edge14\" class=\"edge\">\n<title>12&#45;&gt;14</title>\n<path fill=\"none\" stroke=\"black\" d=\"M990.73,-103.73C1004.06,-94.06 1018.25,-83.77 1031.48,-74.17\"/>\n<polygon fill=\"black\" stroke=\"black\" points=\"1033.54,-77 1039.58,-68.3 1029.43,-71.34 1033.54,-77\"/>\n</g>\n</g>\n</svg>\n"
          },
          "metadata": {},
          "execution_count": 20
        }
      ],
      "source": [
        "# add graphviz as a module\n",
        "!pip install graphviz\n",
        "\n",
        "# import the necessary packages\n",
        "from sklearn.tree import export_graphviz\n",
        "import graphviz\n",
        "\n",
        "# Export the decision tree to a tree.dot file and visualize it\n",
        "export_graphviz(dtree, out_file='tree.dot', feature_names=feature_cols, class_names=['Good', 'Bad'], filled=True, rounded=True, special_characters=True)\n",
        "with open('tree.dot') as f:\n",
        "\n",
        "    dot_graph = f.read()\n",
        "graphviz.Source(dot_graph)\n",
        "\n",
        "# Import the necessary packages\n"
      ]
    },
    {
      "cell_type": "markdown",
      "source": [
        "The Checking.Account variable is not determinant by itself. However:\n",
        "- for those clients with Checking.Account more than 1.5 and Employment years less than 1.5 and Purpose less than 1.5 the 12.5% are estimated to be bad credits.\n",
        "- for those clients with Checking.Account more than 1.5 and Property less than 0.5 and Credit.Amount greater than ~ 14,249 the 2.7% are estimated to be bad credits."
      ],
      "metadata": {
        "id": "6KdH9ClwZGPw"
      }
    },
    {
      "cell_type": "code",
      "execution_count": null,
      "metadata": {
        "colab": {
          "base_uri": "https://localhost:8080/"
        },
        "id": "3yHQJes_RpX8",
        "outputId": "b6327988-8c19-4888-f655-3025c230045e"
      },
      "outputs": [
        {
          "name": "stdout",
          "output_type": "stream",
          "text": [
            "Fitting 5 folds for each of 7560 candidates, totalling 37800 fits\n",
            "{'bootstrap': True, 'class_weight': {1: 1, 2: 0.5}, 'criterion': 'entropy', 'max_depth': None, 'max_features': 'auto', 'min_samples_leaf': 1, 'min_samples_split': 2, 'n_estimators': 600, 'random_state': 42}\n",
            "0.773134328358209\n",
            "RandomForestClassifier(class_weight={1: 1, 2: 0.5}, criterion='entropy',\n",
            "                       n_estimators=600, random_state=42)\n",
            "[[210  24]\n",
            " [ 51  45]]\n",
            "              precision    recall  f1-score   support\n",
            "\n",
            "           1       0.80      0.90      0.85       234\n",
            "           2       0.65      0.47      0.55        96\n",
            "\n",
            "    accuracy                           0.77       330\n",
            "   macro avg       0.73      0.68      0.70       330\n",
            "weighted avg       0.76      0.77      0.76       330\n",
            "\n"
          ]
        }
      ],
      "source": [
        "# gridsearch for random forest\n",
        "from sklearn.model_selection import GridSearchCV\n",
        "from sklearn.ensemble import RandomForestClassifier\n",
        "param_grid = {\n",
        "    'n_estimators': [100, 300, 600], \n",
        "    'max_depth': [2, 4, 10, 12, 14, 20, None],\n",
        "    'max_features': ['auto', 'sqrt'],\n",
        "    'min_samples_split': [2, 5, 10],\n",
        "    'min_samples_leaf': [1, 2, 4],\n",
        "    'bootstrap': [True, False],\n",
        "    'criterion': ['gini', 'entropy'],\n",
        "    'class_weight': [{1:1, 2:.8}, {1:1, 2:.9}, {1:1, 2:.7}, {1:1, 2:.5}, {1:1, 2:.4}], \n",
        "    'random_state': [42],\n",
        "}\n",
        "grid = GridSearchCV(RandomForestClassifier(), param_grid, cv=5, verbose=2, n_jobs=-1)\n",
        "grid.fit(x_train, y_train)\n",
        "print(grid.best_params_)\n",
        "print(grid.best_score_)\n",
        "print(grid.best_estimator_)\n",
        "y_pred = grid.predict(x_test)\n",
        "cm = confusion_matrix(y_test, y_pred)\n",
        "print(cm)\n",
        "print(classification_report(y_test, y_pred))"
      ]
    },
    {
      "cell_type": "code",
      "execution_count": null,
      "metadata": {
        "colab": {
          "base_uri": "https://localhost:8080/"
        },
        "id": "7nGytLGHn3iA",
        "outputId": "7f1d7a6d-9bd3-4084-878a-45da61e56c3f"
      },
      "outputs": [
        {
          "name": "stdout",
          "output_type": "stream",
          "text": [
            "{'ccp_alpha': 0.0, 'criterion': 'friedman_mse', 'learning_rate': 0.1, 'max_depth': 4, 'max_features': 'sqrt', 'min_samples_leaf': 1, 'min_samples_split': 2, 'n_estimators': 50, 'random_state': 42, 'subsample': 0.6, 'validation_fraction': 0.0}\n",
            "0.7865671641791044\n",
            "GradientBoostingClassifier(max_depth=4, max_features='sqrt', n_estimators=50,\n",
            "                           random_state=42, subsample=0.6,\n",
            "                           validation_fraction=0.0)\n",
            "[[209  25]\n",
            " [ 49  47]]\n",
            "              precision    recall  f1-score   support\n",
            "\n",
            "           1       0.81      0.89      0.85       234\n",
            "           2       0.65      0.49      0.56        96\n",
            "\n",
            "    accuracy                           0.78       330\n",
            "   macro avg       0.73      0.69      0.70       330\n",
            "weighted avg       0.76      0.78      0.77       330\n",
            "\n"
          ]
        }
      ],
      "source": [
        "# GradientBoosting using GridSearchCV\n",
        "from sklearn.model_selection import GridSearchCV\n",
        "from sklearn.metrics import classification_report\n",
        "from sklearn.ensemble import GradientBoostingClassifier\n",
        "gboost = GradientBoostingClassifier()\n",
        "param_grid = { \n",
        "    'n_estimators': [50, 100, 150], \n",
        "    'max_depth': [3, 4, 5],\n",
        "    'max_features': ['auto', 'sqrt'],\n",
        "    'min_samples_split': [2, 5, 10],\n",
        "    'min_samples_leaf': [1, 2, 4],\n",
        "    'criterion': ['friedman_mse', 'squared_error'],\n",
        "    'learning_rate': [0.1, 0.2, 0.5],\n",
        "    'subsample': [0.4, 0.5, 0.6],\n",
        "    'ccp_alpha': [0.0, 0.05, 0.1, 0.2],\n",
        "    'validation_fraction': [0.0, 0.1, 0.5, 1.0],\n",
        "    'random_state': [42]\n",
        "}\n",
        "grid = GridSearchCV(gboost, param_grid, cv=5, n_jobs=-1)\n",
        "grid.fit(x_train, y_train)\n",
        "print(grid.best_params_)\n",
        "print(grid.best_score_)\n",
        "print(grid.best_estimator_)\n",
        "y_pred = grid.predict(x_test)\n",
        "cm = confusion_matrix(y_test, y_pred)\n",
        "print(cm)\n",
        "print(classification_report(y_test, y_pred))"
      ]
    },
    {
      "cell_type": "markdown",
      "metadata": {
        "id": "nFeGJOhNesN6"
      },
      "source": [
        "The DecisionTree model was fitted adjusting the class weight parameters and max depth. The class weight parameter made an important contribution to reduce the False Positives cases.\n",
        "\n",
        "The RandomForest and GradientBoosting model gave similar accuracy and False Positive cases."
      ]
    },
    {
      "cell_type": "markdown",
      "metadata": {
        "id": "C__nJaMZe48b"
      },
      "source": [
        "| Classifier | Decision Tree | Random Forest | Gradient Boosting |\n",
        "|:-|:-|:- |:- |\n",
        "| Accuracy score | 0.71 | 0.77 | 0.78 |\n",
        "| False Pos | 95 | 51 | 49 |"
      ]
    },
    {
      "cell_type": "code",
      "execution_count": null,
      "metadata": {
        "id": "uEP3D3vdrb_J"
      },
      "outputs": [],
      "source": [
        "import joblib\n",
        "import tempfile\n",
        "from google.colab import drive\n",
        "from sklearn.pipeline import Pipeline\n",
        "\n",
        "with tempfile.TemporaryFile() as tf:\n",
        "  drive.mount('/content/drive')\n",
        "  steps = [('encoder', le), ('classifier', gboost)] \n",
        "  joblib.dump(Pipeline(steps), '/content/drive/My Drive/german-credit.pkl')\n",
        "  tf.seek(0)"
      ]
    }
  ],
  "metadata": {
    "accelerator": "TPU",
    "colab": {
      "machine_shape": "hm",
      "provenance": []
    },
    "gpuClass": "premium",
    "kernelspec": {
      "display_name": "Python 3",
      "language": "python",
      "name": "python3"
    },
    "language_info": {
      "codemirror_mode": {
        "name": "ipython",
        "version": 3
      },
      "file_extension": ".py",
      "mimetype": "text/x-python",
      "name": "python",
      "nbconvert_exporter": "python",
      "pygments_lexer": "ipython3",
      "version": "3.11.1"
    },
    "vscode": {
      "interpreter": {
        "hash": "753e19518da2b2101a1d54ab3a97bd87587dd78d828089b583550e997c6bee0b"
      }
    }
  },
  "nbformat": 4,
  "nbformat_minor": 0
}